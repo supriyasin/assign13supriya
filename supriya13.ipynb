{
 "cells": [
  {
   "cell_type": "code",
   "execution_count": null,
   "id": "1b521921",
   "metadata": {},
   "outputs": [],
   "source": [
    "#1. Is the Python Standard Library included with PyInputPlus?\n",
    "\n",
    "\"\"\"PyInputPlus is not a part of the Python Standard Libary, we must\n",
    "   install it separately using Pip.\"\"\"\n",
    "\n",
    "#2. Why is PyInputPlus commonly imported with import pyinputplus as pypi?\n",
    "\n",
    "\"\"\"You can import the module with import pyinputplus as pyip so that \n",
    "   you can enter a shorter name when calling the module's fuctions.\"\"\"\n",
    "\n",
    "#3. How do you distinguish between inputInt() and inputFloat()?\n",
    "\n",
    "\"\"\"The difference is in the data-type when you use the first one the \n",
    "   program expects an integer value as input but in the latter it expects\n",
    "   a float value i.e number containing a decimal.\"\"\"\n",
    "\n",
    "#4. Using PyInputPlus, how do you ensure that the user enters a whole number between 0 and 99?\n",
    "\n",
    "\"\"\"By using pyip.inputint(min=0,max=99).\"\"\"\n",
    "\n",
    "#5. What is transferred to the keyword arguments allowRegexes and blockRegexes?\n",
    "\n",
    "\"\"\"A list of regex strings that are either explicitly allowed or denied.\"\"\"\n",
    "\n",
    "#6. If a blank input is entered three times, what does inputStr(limit=3) do?\n",
    "\n",
    "\"\"\"The fuction will raise RetryLimitException.\"\"\"\n",
    "\n",
    "#7. If blank input is entered three times, what does inputStr(limit=3, default='hello') do?\n",
    "\n",
    "\"\"\"The fuction return the value 'hello'.\"\"\""
   ]
  }
 ],
 "metadata": {
  "kernelspec": {
   "display_name": "Python 3 (ipykernel)",
   "language": "python",
   "name": "python3"
  },
  "language_info": {
   "codemirror_mode": {
    "name": "ipython",
    "version": 3
   },
   "file_extension": ".py",
   "mimetype": "text/x-python",
   "name": "python",
   "nbconvert_exporter": "python",
   "pygments_lexer": "ipython3",
   "version": "3.9.12"
  }
 },
 "nbformat": 4,
 "nbformat_minor": 5
}
